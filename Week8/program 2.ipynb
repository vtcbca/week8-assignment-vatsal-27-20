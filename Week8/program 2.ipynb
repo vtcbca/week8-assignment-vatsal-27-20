{
 "cells": [
  {
   "cell_type": "code",
   "execution_count": null,
   "id": "f4378a92-c894-44dd-85b5-ad45605543a1",
   "metadata": {},
   "outputs": [],
   "source": [
    "\"\"\"Program : 2 \n",
    "==================================================================================================\n",
    "Sales (sid, year, totalsales)\n",
    "\n",
    "Create above table into a SQLite database with appropriate constraints. \n",
    "\n",
    "A. Insert at least 5-10 records into the sales table. \n",
    "B. Export sales table data into sales.csv file.\n",
    "C. Write a python scripts that read the sales.csv file and plot a bar chart that shows totalsales of the year. \n",
    "\n",
    "Also decorate the chart with appropriate title, lables, colours etc.\"\"\""
   ]
  },
  {
   "cell_type": "code",
   "execution_count": 5,
   "id": "01fb7745-1a1a-46a5-be87-db8d17b1c2a6",
   "metadata": {},
   "outputs": [],
   "source": [
    "import csv\n",
    "import sqlite3 as sq\n",
    "import pandas as pd\n",
    "import matplotlib.pyplot as plt"
   ]
  },
  {
   "cell_type": "markdown",
   "id": "4b3a5006-1998-44de-bd07-0cae2c53c300",
   "metadata": {},
   "source": [
    "#### create table"
   ]
  },
  {
   "cell_type": "code",
   "execution_count": 2,
   "id": "a2e2642f-d95c-49c1-a22b-596fde360bfd",
   "metadata": {},
   "outputs": [],
   "source": [
    "conn=sq.connect(\"c://sqlite3//sales.db\")\n",
    "cur=conn.cursor()\n",
    "cur.execute(\" \" \"create table if not exists sales(sid int primary key,year int,totalsales int)\"\"\")\n",
    "put=\"insert into sales values(?,?,?)\"\n",
    "record=[]"
   ]
  },
  {
   "cell_type": "markdown",
   "id": "952d978c-9034-4f1c-b054-6ff9430bf322",
   "metadata": {},
   "source": [
    "#### insert record"
   ]
  },
  {
   "cell_type": "code",
   "execution_count": 3,
   "id": "ebd55f46-9afd-423a-9f94-29081360bc2e",
   "metadata": {},
   "outputs": [
    {
     "name": "stdin",
     "output_type": "stream",
     "text": [
      "Enter sales id: 101\n",
      "Enter year: 2001\n",
      "Enter total sales: 2000\n",
      "Enter sales id: 102\n",
      "Enter year: 2002\n",
      "Enter total sales: 3050\n",
      "Enter sales id: 103\n",
      "Enter year: 2003\n",
      "Enter total sales: 2050\n",
      "Enter sales id: 104\n",
      "Enter year: 2004\n",
      "Enter total sales: 3500\n",
      "Enter sales id: 105\n",
      "Enter year: 2005\n",
      "Enter total sales: 5000\n"
     ]
    },
    {
     "data": {
      "text/plain": [
       "<sqlite3.Cursor at 0x22c559c0ac0>"
      ]
     },
     "execution_count": 3,
     "metadata": {},
     "output_type": "execute_result"
    }
   ],
   "source": [
    "for i in range(5):\n",
    "    no=int(input(\"Enter sales id:\"))\n",
    "    y=int(input(\"Enter year:\"))\n",
    "    s=int(input(\"Enter total sales:\"))\n",
    "    li=[no,y,s]\n",
    "    record.append(li)\n",
    "cur.executemany(put,record)"
   ]
  },
  {
   "cell_type": "markdown",
   "id": "aeef9fcb-9a47-4734-a660-694949b4e906",
   "metadata": {},
   "source": [
    "#### dump into csv"
   ]
  },
  {
   "cell_type": "code",
   "execution_count": 4,
   "id": "cca43a66-ac94-4508-b2ae-24961012ac49",
   "metadata": {},
   "outputs": [],
   "source": [
    "cur.execute('select * from sales ;')\n",
    "r=cur.fetchall()\n",
    "conn.commit()\n",
    "h=['sid','year','totalsales']\n",
    "with open(\"c:\\\\sqlite3\\\\csv\\\\sales.csv\",\"w\",newline='') as csvfile:\n",
    "    writer=csv.writer(csvfile)\n",
    "    writer.writerow(h)\n",
    "    writer.writerows(r)"
   ]
  },
  {
   "cell_type": "markdown",
   "id": "3aa09315-7739-4259-99b4-62e900e4f619",
   "metadata": {},
   "source": [
    "#### read csv"
   ]
  },
  {
   "cell_type": "code",
   "execution_count": 7,
   "id": "5656d430-a963-4c4d-96eb-f9eb11865399",
   "metadata": {},
   "outputs": [
    {
     "data": {
      "text/html": [
       "<div>\n",
       "<style scoped>\n",
       "    .dataframe tbody tr th:only-of-type {\n",
       "        vertical-align: middle;\n",
       "    }\n",
       "\n",
       "    .dataframe tbody tr th {\n",
       "        vertical-align: top;\n",
       "    }\n",
       "\n",
       "    .dataframe thead th {\n",
       "        text-align: right;\n",
       "    }\n",
       "</style>\n",
       "<table border=\"1\" class=\"dataframe\">\n",
       "  <thead>\n",
       "    <tr style=\"text-align: right;\">\n",
       "      <th></th>\n",
       "      <th>sid</th>\n",
       "      <th>year</th>\n",
       "      <th>totalsales</th>\n",
       "    </tr>\n",
       "  </thead>\n",
       "  <tbody>\n",
       "    <tr>\n",
       "      <th>0</th>\n",
       "      <td>101</td>\n",
       "      <td>2001</td>\n",
       "      <td>2000</td>\n",
       "    </tr>\n",
       "    <tr>\n",
       "      <th>1</th>\n",
       "      <td>102</td>\n",
       "      <td>2002</td>\n",
       "      <td>3050</td>\n",
       "    </tr>\n",
       "    <tr>\n",
       "      <th>2</th>\n",
       "      <td>103</td>\n",
       "      <td>2003</td>\n",
       "      <td>2050</td>\n",
       "    </tr>\n",
       "    <tr>\n",
       "      <th>3</th>\n",
       "      <td>104</td>\n",
       "      <td>2004</td>\n",
       "      <td>3500</td>\n",
       "    </tr>\n",
       "    <tr>\n",
       "      <th>4</th>\n",
       "      <td>105</td>\n",
       "      <td>2005</td>\n",
       "      <td>5000</td>\n",
       "    </tr>\n",
       "  </tbody>\n",
       "</table>\n",
       "</div>"
      ],
      "text/plain": [
       "   sid  year  totalsales\n",
       "0  101  2001        2000\n",
       "1  102  2002        3050\n",
       "2  103  2003        2050\n",
       "3  104  2004        3500\n",
       "4  105  2005        5000"
      ]
     },
     "execution_count": 7,
     "metadata": {},
     "output_type": "execute_result"
    }
   ],
   "source": [
    "df=pd.read_csv(\"c:\\\\sqlite3\\\\csv\\\\sales.csv\")\n",
    "df"
   ]
  },
  {
   "cell_type": "markdown",
   "id": "8863ca2e-c36e-488b-b13b-03b9d6bd9883",
   "metadata": {},
   "source": [
    "#### plot graph"
   ]
  },
  {
   "cell_type": "code",
   "execution_count": 13,
   "id": "89853d40-860a-446e-95b8-ace81964c5de",
   "metadata": {},
   "outputs": [
    {
     "data": {
      "image/png": "[encoded data removed]",
      "text/plain": [
       "<Figure size 640x480 with 1 Axes>"
      ]
     },
     "metadata": {},
     "output_type": "display_data"
    }
   ],
   "source": [
    "plt.bar(df['year'],df['totalsales'],color=['red','orange','blue','yellow','cyan'])\n",
    "plt.ylabel('total sales')\n",
    "plt.xlabel('year')\n",
    "plt.title('Total sales over the 5 year')\n",
    "plt.xticks(rotation=30)\n",
    "plt.show()"
   ]
  },
  {
   "cell_type": "code",
   "execution_count": null,
   "id": "71c64ccb-9263-4b54-b826-2e367e835ef1",
   "metadata": {},
   "outputs": [],
   "source": []
  }
 ],
 "metadata": {
  "kernelspec": {
   "display_name": "Python 3 (ipykernel)",
   "language": "python",
   "name": "python3"
  },
  "language_info": {
   "codemirror_mode": {
    "name": "ipython",
    "version": 3
   },
   "file_extension": ".py",
   "mimetype": "text/x-python",
   "name": "python",
   "nbconvert_exporter": "python",
   "pygments_lexer": "ipython3",
   "version": "3.11.5"
  }
 },
 "nbformat": 4,
 "nbformat_minor": 5
}
