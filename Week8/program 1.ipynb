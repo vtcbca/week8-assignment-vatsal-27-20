{
 "cells": [
  {
   "cell_type": "code",
   "execution_count": null,
   "id": "7d83ad34-10de-4c2e-a26d-b95f282d53e1",
   "metadata": {},
   "outputs": [],
   "source": [
    "\"\"\"Program : 1 \n",
    "==================================================================================================\n",
    "Create CSV File for Product Selling for 6 Months and add at-least 5 Records for 5 different products. \n",
    "(Prod_Name, Jan ,Feb, Mar, Apr , May, Jun ) \n",
    "Create Python script to perform following task.\n",
    "A. Read data in Dataframe. \n",
    "B. Add columns and calculate total_sell, average_sell. \n",
    "C. Plot Total sell and average sell together on line chart with proper Legends, titles and lables. \n",
    "D. Explain final dataframe to csv named sell_analysis.csv \n",
    "\"\"\""
   ]
  },
  {
   "cell_type": "code",
   "execution_count": 2,
   "id": "95a61456-12b6-4f09-ab54-5134ed055dbf",
   "metadata": {},
   "outputs": [],
   "source": [
    "import csv\n",
    "import matplotlib.pyplot as plt\n",
    "import pandas as pd"
   ]
  },
  {
   "cell_type": "code",
   "execution_count": 3,
   "id": "d85d4e1b-dcf2-4acc-8d4a-bb4d5af45f27",
   "metadata": {},
   "outputs": [],
   "source": [
    "header=['Prod_No','Prod_Name','Jan','Feb','Mar','Apr','May','Jun']"
   ]
  },
  {
   "cell_type": "markdown",
   "id": "9bfb06e1-68d0-4062-a9e0-58b9d7d17b9e",
   "metadata": {},
   "source": [
    "#### insert record"
   ]
  },
  {
   "cell_type": "code",
   "execution_count": null,
   "id": "64492d80-57f5-4ae4-9d30-af1dc9220a23",
   "metadata": {},
   "outputs": [
    {
     "name": "stdin",
     "output_type": "stream",
     "text": [
      "Enter Product Number:  101\n",
      "Enter Product Name:  laptop\n",
      "Enter January Sales:  10\n",
      "Enter February Sales:  20\n",
      "Enter March Sales:  30\n",
      "Enter April Sales:  40\n",
      "Enter May Sales:  10\n",
      "Enter June Sales:  50\n",
      "Enter Product Number:  102\n",
      "Enter Product Name:  CPU\n",
      "Enter January Sales:  85\n",
      "Enter February Sales:  95\n",
      "Enter March Sales:  65\n",
      "Enter April Sales:  45\n",
      "Enter May Sales:  55\n",
      "Enter June Sales:  65\n",
      "Enter Product Number:  103\n",
      "Enter Product Name:  RAM\n",
      "Enter January Sales:  85\n",
      "Enter February Sales:  95\n",
      "Enter March Sales:  55\n",
      "Enter April Sales:  74\n",
      "Enter May Sales:  45\n",
      "Enter June Sales:  65\n",
      "Enter Product Number:  104\n",
      "Enter Product Name:  ROM\n",
      "Enter January Sales:  25\n",
      "Enter February Sales:  65\n",
      "Enter March Sales:  45\n",
      "Enter April Sales:  75\n",
      "Enter May Sales:  95\n",
      "Enter June Sales:  56\n",
      "Enter Product Number:  105\n"
     ]
    }
   ],
   "source": [
    "l=[]\n",
    "with open(\"c:\\\\sqlite3\\\\csv\\\\selling.csv\",'w',newline=\"\") as file:\n",
    "    insert =csv. writer(file)\n",
    "    insert.writerow(header)\n",
    "    for i in range(5):\n",
    "        prod_no = input(\"Enter Product Number: \")\n",
    "        prod_name = input(\"Enter Product Name: \")\n",
    "        jan = int(input(\"Enter January Sales: \"))\n",
    "        feb = int(input(\"Enter February Sales: \"))\n",
    "        mar = int(input(\"Enter March Sales: \"))\n",
    "        apr = int(input(\"Enter April Sales: \"))\n",
    "        may = int(input(\"Enter May Sales: \"))\n",
    "        jun = int(input(\"Enter June Sales: \"))\n",
    "        data=[prod_no,prod_name,jan,feb,mar,apr,may,jun]\n",
    "        l.append(data)\n",
    "    insert.writerows(l)"
   ]
  },
  {
   "cell_type": "markdown",
   "id": "c75ca9fc-27df-4392-9f9b-9a9231560508",
   "metadata": {},
   "source": [
    "#### Read data from csv"
   ]
  },
  {
   "cell_type": "code",
   "execution_count": 4,
   "id": "e45c3412-c43c-41e9-9307-151bebe4cb00",
   "metadata": {},
   "outputs": [
    {
     "data": {
      "text/html": [
       "<div>\n",
       "<style scoped>\n",
       "    .dataframe tbody tr th:only-of-type {\n",
       "        vertical-align: middle;\n",
       "    }\n",
       "\n",
       "    .dataframe tbody tr th {\n",
       "        vertical-align: top;\n",
       "    }\n",
       "\n",
       "    .dataframe thead th {\n",
       "        text-align: right;\n",
       "    }\n",
       "</style>\n",
       "<table border=\"1\" class=\"dataframe\">\n",
       "  <thead>\n",
       "    <tr style=\"text-align: right;\">\n",
       "      <th></th>\n",
       "      <th>Prod_No</th>\n",
       "      <th>Prod_Name</th>\n",
       "      <th>Jan</th>\n",
       "      <th>Feb</th>\n",
       "      <th>Mar</th>\n",
       "      <th>Apr</th>\n",
       "      <th>May</th>\n",
       "      <th>Jun</th>\n",
       "    </tr>\n",
       "  </thead>\n",
       "  <tbody>\n",
       "    <tr>\n",
       "      <th>0</th>\n",
       "      <td>101</td>\n",
       "      <td>laptop</td>\n",
       "      <td>10</td>\n",
       "      <td>20</td>\n",
       "      <td>30</td>\n",
       "      <td>40</td>\n",
       "      <td>10</td>\n",
       "      <td>50</td>\n",
       "    </tr>\n",
       "    <tr>\n",
       "      <th>1</th>\n",
       "      <td>102</td>\n",
       "      <td>CPU</td>\n",
       "      <td>85</td>\n",
       "      <td>95</td>\n",
       "      <td>65</td>\n",
       "      <td>45</td>\n",
       "      <td>55</td>\n",
       "      <td>65</td>\n",
       "    </tr>\n",
       "    <tr>\n",
       "      <th>2</th>\n",
       "      <td>103</td>\n",
       "      <td>RAM</td>\n",
       "      <td>85</td>\n",
       "      <td>95</td>\n",
       "      <td>55</td>\n",
       "      <td>74</td>\n",
       "      <td>45</td>\n",
       "      <td>65</td>\n",
       "    </tr>\n",
       "    <tr>\n",
       "      <th>3</th>\n",
       "      <td>104</td>\n",
       "      <td>ROM</td>\n",
       "      <td>25</td>\n",
       "      <td>65</td>\n",
       "      <td>45</td>\n",
       "      <td>75</td>\n",
       "      <td>95</td>\n",
       "      <td>56</td>\n",
       "    </tr>\n",
       "    <tr>\n",
       "      <th>4</th>\n",
       "      <td>105</td>\n",
       "      <td>keyboard</td>\n",
       "      <td>75</td>\n",
       "      <td>95</td>\n",
       "      <td>42</td>\n",
       "      <td>56</td>\n",
       "      <td>25</td>\n",
       "      <td>45</td>\n",
       "    </tr>\n",
       "  </tbody>\n",
       "</table>\n",
       "</div>"
      ],
      "text/plain": [
       "   Prod_No Prod_Name  Jan  Feb  Mar  Apr  May  Jun\n",
       "0      101    laptop   10   20   30   40   10   50\n",
       "1      102       CPU   85   95   65   45   55   65\n",
       "2      103       RAM   85   95   55   74   45   65\n",
       "3      104       ROM   25   65   45   75   95   56\n",
       "4      105  keyboard   75   95   42   56   25   45"
      ]
     },
     "execution_count": 4,
     "metadata": {},
     "output_type": "execute_result"
    }
   ],
   "source": [
    "df=pd.read_csv(\"c:\\\\sqlite3\\\\csv\\\\selling.csv\")\n",
    "df"
   ]
  },
  {
   "cell_type": "markdown",
   "id": "424e54bc-32c7-4c8d-b232-ee15debd6376",
   "metadata": {},
   "source": [
    "#### calculate total_sell and average sell"
   ]
  },
  {
   "cell_type": "code",
   "execution_count": 13,
   "id": "c833cfb5-98cb-4c45-a23e-ae412eb1e3a2",
   "metadata": {},
   "outputs": [
    {
     "data": {
      "text/html": [
       "<div>\n",
       "<style scoped>\n",
       "    .dataframe tbody tr th:only-of-type {\n",
       "        vertical-align: middle;\n",
       "    }\n",
       "\n",
       "    .dataframe tbody tr th {\n",
       "        vertical-align: top;\n",
       "    }\n",
       "\n",
       "    .dataframe thead th {\n",
       "        text-align: right;\n",
       "    }\n",
       "</style>\n",
       "<table border=\"1\" class=\"dataframe\">\n",
       "  <thead>\n",
       "    <tr style=\"text-align: right;\">\n",
       "      <th></th>\n",
       "      <th>Prod_No</th>\n",
       "      <th>Prod_Name</th>\n",
       "      <th>Jan</th>\n",
       "      <th>Feb</th>\n",
       "      <th>Mar</th>\n",
       "      <th>Apr</th>\n",
       "      <th>May</th>\n",
       "      <th>Jun</th>\n",
       "      <th>total_sell</th>\n",
       "      <th>average_sell</th>\n",
       "    </tr>\n",
       "  </thead>\n",
       "  <tbody>\n",
       "    <tr>\n",
       "      <th>0</th>\n",
       "      <td>101</td>\n",
       "      <td>laptop</td>\n",
       "      <td>10</td>\n",
       "      <td>20</td>\n",
       "      <td>30</td>\n",
       "      <td>40</td>\n",
       "      <td>10</td>\n",
       "      <td>50</td>\n",
       "      <td>160</td>\n",
       "      <td>26.666667</td>\n",
       "    </tr>\n",
       "    <tr>\n",
       "      <th>1</th>\n",
       "      <td>102</td>\n",
       "      <td>CPU</td>\n",
       "      <td>85</td>\n",
       "      <td>95</td>\n",
       "      <td>65</td>\n",
       "      <td>45</td>\n",
       "      <td>55</td>\n",
       "      <td>65</td>\n",
       "      <td>410</td>\n",
       "      <td>68.333333</td>\n",
       "    </tr>\n",
       "    <tr>\n",
       "      <th>2</th>\n",
       "      <td>103</td>\n",
       "      <td>RAM</td>\n",
       "      <td>85</td>\n",
       "      <td>95</td>\n",
       "      <td>55</td>\n",
       "      <td>74</td>\n",
       "      <td>45</td>\n",
       "      <td>65</td>\n",
       "      <td>419</td>\n",
       "      <td>69.833333</td>\n",
       "    </tr>\n",
       "    <tr>\n",
       "      <th>3</th>\n",
       "      <td>104</td>\n",
       "      <td>ROM</td>\n",
       "      <td>25</td>\n",
       "      <td>65</td>\n",
       "      <td>45</td>\n",
       "      <td>75</td>\n",
       "      <td>95</td>\n",
       "      <td>56</td>\n",
       "      <td>361</td>\n",
       "      <td>60.166667</td>\n",
       "    </tr>\n",
       "    <tr>\n",
       "      <th>4</th>\n",
       "      <td>105</td>\n",
       "      <td>keyboard</td>\n",
       "      <td>75</td>\n",
       "      <td>95</td>\n",
       "      <td>42</td>\n",
       "      <td>56</td>\n",
       "      <td>25</td>\n",
       "      <td>45</td>\n",
       "      <td>338</td>\n",
       "      <td>56.333333</td>\n",
       "    </tr>\n",
       "  </tbody>\n",
       "</table>\n",
       "</div>"
      ],
      "text/plain": [
       "   Prod_No Prod_Name  Jan  Feb  Mar  Apr  May  Jun  total_sell  average_sell\n",
       "0      101    laptop   10   20   30   40   10   50         160     26.666667\n",
       "1      102       CPU   85   95   65   45   55   65         410     68.333333\n",
       "2      103       RAM   85   95   55   74   45   65         419     69.833333\n",
       "3      104       ROM   25   65   45   75   95   56         361     60.166667\n",
       "4      105  keyboard   75   95   42   56   25   45         338     56.333333"
      ]
     },
     "execution_count": 13,
     "metadata": {},
     "output_type": "execute_result"
    }
   ],
   "source": [
    "df['total_sell'] = df[['Jan', 'Feb', 'Mar', 'Apr', 'May', 'Jun']].sum(axis=1)\n",
    "df['average_sell'] = df[['Jan', 'Feb', 'Mar', 'Apr', 'May', 'Jun']].mean(axis=1)\n",
    "df\n"
   ]
  },
  {
   "cell_type": "markdown",
   "id": "8953fb87-71c3-40c7-b89d-62473db538c6",
   "metadata": {},
   "source": [
    "#### Plot Total sell and average sell together on line chart with proper Legends, titles and lables"
   ]
  },
  {
   "cell_type": "code",
   "execution_count": 14,
   "id": "97014fab-2f02-4cfa-8273-833bb45642a6",
   "metadata": {},
   "outputs": [
    {
     "data": {
      "image/png": "[encoded data removed]",
      "text/plain": [
       "<Figure size 640x480 with 1 Axes>"
      ]
     },
     "metadata": {},
     "output_type": "display_data"
    }
   ],
   "source": [
    "name=(['laptop','CPU','RAM','ROM','keyboard'])\n",
    "plt.plot(name,df['total_sell'])\n",
    "plt.plot(name,df['average_sell'])\n",
    "plt.xlabel('product_name')\n",
    "plt.ylabel('no of sales')\n",
    "plt.title('Sell Over month')\n",
    "plt.legend(['total_sell','average_sell'])\n",
    "plt.show()"
   ]
  },
  {
   "cell_type": "markdown",
   "id": "e056bd20-d44b-43d7-a312-6ad5d763ef9b",
   "metadata": {},
   "source": [
    "####  Explain final dataframe to csv named sell_analysis.csv "
   ]
  },
  {
   "cell_type": "code",
   "execution_count": 17,
   "id": "1fe1bd22-9da3-4063-b57a-07464d2e2496",
   "metadata": {},
   "outputs": [
    {
     "name": "stdout",
     "output_type": "stream",
     "text": [
      "Mean of total sell is: 337.6\n",
      "Median of total sell is: 361.0\n",
      "Mode of total sell is: 0    160\n",
      "1    338\n",
      "2    361\n",
      "3    410\n",
      "4    419\n",
      "Name: total_sell, dtype: int64\n"
     ]
    }
   ],
   "source": [
    "print(\"Mean of total sell is:\",df['total_sell'].mean())\n",
    "print(\"Median of total sell is:\",df['total_sell'].median())\n",
    "print(\"Mode of total sell is:\",df['total_sell'].mode())\n"
   ]
  },
  {
   "cell_type": "code",
   "execution_count": null,
   "id": "e579646e-5b97-4bf6-a621-38eb5d941b6a",
   "metadata": {},
   "outputs": [],
   "source": []
  }
 ],
 "metadata": {
  "kernelspec": {
   "display_name": "Python 3 (ipykernel)",
   "language": "python",
   "name": "python3"
  },
  "language_info": {
   "codemirror_mode": {
    "name": "ipython",
    "version": 3
   },
   "file_extension": ".py",
   "mimetype": "text/x-python",
   "name": "python",
   "nbconvert_exporter": "python",
   "pygments_lexer": "ipython3",
   "version": "3.11.5"
  }
 },
 "nbformat": 4,
 "nbformat_minor": 5
}
